{
 "cells": [
  {
   "cell_type": "code",
   "execution_count": 16,
   "metadata": {
    "_cell_guid": "b1076dfc-b9ad-4769-8c92-a6c4dae69d19",
    "_uuid": "8f2839f25d086af736a60e9eeb907d3b93b6e0e5",
    "execution": {
     "iopub.execute_input": "2021-08-01T23:50:23.524219Z",
     "iopub.status.busy": "2021-08-01T23:50:23.523890Z",
     "iopub.status.idle": "2021-08-01T23:50:23.533422Z",
     "shell.execute_reply": "2021-08-01T23:50:23.532390Z",
     "shell.execute_reply.started": "2021-08-01T23:50:23.524189Z"
    }
   },
   "outputs": [],
   "source": [
    "import os\n",
    "import random\n",
    "\n",
    "import matplotlib.pyplot as plt\n",
    "import numpy as np\n",
    "import pandas as pd\n",
    "import torch\n",
    "import torch.nn.functional as F\n",
    "from fastai import layers\n",
    "from fastai.basics import RandomSplitter\n",
    "from fastai.data.core import DataLoaders\n",
    "from fastai.learner import Learner\n",
    "from fastai.optimizer import Adam, SGD\n",
    "from fastai.torch_core import tensor\n",
    "from fastai.vision.all import accuracy\n",
    "from time import time\n",
    "from torch import nn\n",
    "from torch.utils.data import DataLoader, Dataset\n",
    "from torchvision import transforms\n",
    "\n",
    "device = \"cuda\" if torch.cuda.is_available() else \"cpu\""
   ]
  },
  {
   "cell_type": "code",
   "execution_count": 17,
   "metadata": {
    "execution": {
     "iopub.execute_input": "2021-08-01T23:50:23.535746Z",
     "iopub.status.busy": "2021-08-01T23:50:23.535207Z",
     "iopub.status.idle": "2021-08-01T23:50:26.255227Z",
     "shell.execute_reply": "2021-08-01T23:50:26.254277Z",
     "shell.execute_reply.started": "2021-08-01T23:50:23.535705Z"
    }
   },
   "outputs": [],
   "source": [
    "train_df = pd.read_csv(\"../input/digit-recognizer/train.csv\")\n",
    "\n",
    "X = train_df.loc[:, train_df.columns != \"label\"].values\n",
    "y = train_df.label.values"
   ]
  },
  {
   "cell_type": "code",
   "execution_count": 18,
   "metadata": {
    "execution": {
     "iopub.execute_input": "2021-08-01T23:50:26.259207Z",
     "iopub.status.busy": "2021-08-01T23:50:26.258905Z",
     "iopub.status.idle": "2021-08-01T23:50:26.354804Z",
     "shell.execute_reply": "2021-08-01T23:50:26.353862Z",
     "shell.execute_reply.started": "2021-08-01T23:50:26.259175Z"
    }
   },
   "outputs": [
    {
     "data": {
      "image/png": "[encoded data removed]",
      "text/plain": [
       "<Figure size 432x288 with 1 Axes>"
      ]
     },
     "metadata": {
      "needs_background": "light"
     },
     "output_type": "display_data"
    }
   ],
   "source": [
    "i = random.randint(0, len(X))\n",
    "plt.imshow(X[i].reshape(28,28))\n",
    "plt.axis(\"off\")\n",
    "plt.title(str(y[i]))\n",
    "plt.savefig('graph.png')\n",
    "plt.show()"
   ]
  },
  {
   "cell_type": "code",
   "execution_count": 19,
   "metadata": {
    "execution": {
     "iopub.execute_input": "2021-08-01T23:50:26.357045Z",
     "iopub.status.busy": "2021-08-01T23:50:26.356630Z",
     "iopub.status.idle": "2021-08-01T23:50:26.366464Z",
     "shell.execute_reply": "2021-08-01T23:50:26.365358Z",
     "shell.execute_reply.started": "2021-08-01T23:50:26.357004Z"
    }
   },
   "outputs": [],
   "source": [
    "class CustomTensorDataset(Dataset):\n",
    "    def __init__(self, data, transform, validation_set=False):\n",
    "        self.data = data.reset_index(drop=True)\n",
    "        self.transform = transform\n",
    "        self.validation_set = validation_set\n",
    "\n",
    "    def __getitem__(self, index):\n",
    "        if self.validation_set:\n",
    "            x = self.data.iloc[index, :].values.reshape(1, 28, 28)\n",
    "            x = self.transform(tensor(x) / 255)\n",
    "            x = tensor(x)\n",
    "            y = 0\n",
    "        else:\n",
    "            x = self.data.iloc[index, 1:].values.reshape(1, 28, 28)\n",
    "            x = self.transform(tensor(x) / 255)\n",
    "            y = self.data.iloc[index, 0]\n",
    "\n",
    "        return x.to(device), tensor(y).to(device)\n",
    "\n",
    "    def __len__(self):\n",
    "        return self.data.shape[0]"
   ]
  },
  {
   "cell_type": "code",
   "execution_count": 20,
   "metadata": {
    "execution": {
     "iopub.execute_input": "2021-08-01T23:50:26.369039Z",
     "iopub.status.busy": "2021-08-01T23:50:26.368275Z",
     "iopub.status.idle": "2021-08-01T23:50:26.377424Z",
     "shell.execute_reply": "2021-08-01T23:50:26.376264Z",
     "shell.execute_reply.started": "2021-08-01T23:50:26.368992Z"
    }
   },
   "outputs": [],
   "source": [
    "ADD_TRANSFORMATIONS = True\n",
    "\n",
    "data_transform = transforms.Compose([])\n",
    "if ADD_TRANSFORMATIONS:\n",
    "    data_transform = transforms.Compose(\n",
    "        [\n",
    "            transforms.Resize(64),\n",
    "            transforms.RandomResizedCrop(40, scale=(0.8, 1.0)),\n",
    "            transforms.RandomRotation(degrees=(0, 10)),\n",
    "#             transforms.RandomAffine(degrees=20, translate=(0.1, 0.1), scale=(0.9, 1.1)),\n",
    "#             transforms.ColorJitter(brightness=0.2, contrast=0.2),\n",
    "#             transforms.ToTensor(),\n",
    "#             transforms.Normalize((0.1307,), (0.3081,)),\n",
    "        ]\n",
    "    )"
   ]
  },
  {
   "cell_type": "code",
   "execution_count": 21,
   "metadata": {
    "execution": {
     "iopub.execute_input": "2021-08-01T23:50:26.379874Z",
     "iopub.status.busy": "2021-08-01T23:50:26.379156Z",
     "iopub.status.idle": "2021-08-01T23:50:26.715927Z",
     "shell.execute_reply": "2021-08-01T23:50:26.714995Z",
     "shell.execute_reply.started": "2021-08-01T23:50:26.379669Z"
    }
   },
   "outputs": [],
   "source": [
    "batch_size = 100\n",
    "\n",
    "train_idx, valid_idx = RandomSplitter(valid_pct=0.1, seed=42)(train_df)\n",
    "train_tf = CustomTensorDataset(train_df.iloc[train_idx, :], data_transform)\n",
    "test_tf = CustomTensorDataset(train_df.iloc[valid_idx, :], data_transform)\n",
    "\n",
    "train_loader = DataLoader(train_tf, batch_size=batch_size, shuffle=False)\n",
    "test_loader = DataLoader(test_tf, batch_size=batch_size, shuffle=False)\n",
    "\n",
    "dls = DataLoaders(train_loader, test_loader)"
   ]
  },
  {
   "cell_type": "code",
   "execution_count": 22,
   "metadata": {
    "execution": {
     "iopub.execute_input": "2021-08-01T23:50:26.717693Z",
     "iopub.status.busy": "2021-08-01T23:50:26.717287Z",
     "iopub.status.idle": "2021-08-01T23:50:26.729713Z",
     "shell.execute_reply": "2021-08-01T23:50:26.728516Z",
     "shell.execute_reply.started": "2021-08-01T23:50:26.717654Z"
    }
   },
   "outputs": [],
   "source": [
    "class Model(nn.Module):\n",
    "    def __init__(self):\n",
    "        super(Model, self).__init__()\n",
    "        self.conv1 = layers.ConvLayer(1, 32, ks=3)\n",
    "        self.conv2 = layers.ConvLayer(32, 64, ks=3)\n",
    "        self.conv3 = layers.ConvLayer(64, 128, ks=3)\n",
    "        self.conv4 = layers.ConvLayer(128, 256, ks=3)\n",
    "        self.conv5 = layers.ConvLayer(256, 512, ks=3)\n",
    "        self.adapt1 = nn.AdaptiveAvgPool2d(1)\n",
    "        self.flatten = layers.Flatten()\n",
    "        self.fc1 = nn.Linear(512, 256)\n",
    "        self.batch1 = nn.BatchNorm1d(256)\n",
    "        self.fc2 = nn.Linear(256, 10)\n",
    "\n",
    "    def forward(self, x):\n",
    "        out = self.conv1(x)\n",
    "        out = self.conv2(out)\n",
    "        out = F.max_pool2d(out, 3)\n",
    "\n",
    "        out = self.conv3(out)\n",
    "        out = self.conv4(out)\n",
    "        out = F.max_pool2d(out, 3)\n",
    "\n",
    "        out = self.conv5(out)\n",
    "        out = self.adapt1(out)\n",
    "\n",
    "        out = self.flatten(out)\n",
    "\n",
    "        out = self.fc1(out)\n",
    "        out = self.batch1(out)\n",
    "        out = F.relu(out)\n",
    "        out = self.fc2(out)\n",
    "\n",
    "        return out"
   ]
  },
  {
   "cell_type": "code",
   "execution_count": 23,
   "metadata": {
    "execution": {
     "iopub.execute_input": "2021-08-01T23:50:26.733221Z",
     "iopub.status.busy": "2021-08-01T23:50:26.732726Z",
     "iopub.status.idle": "2021-08-01T23:50:26.771195Z",
     "shell.execute_reply": "2021-08-01T23:50:26.770239Z",
     "shell.execute_reply.started": "2021-08-01T23:50:26.733152Z"
    }
   },
   "outputs": [],
   "source": [
    "learning_rate = 0.01\n",
    "lr_max = 0.1\n",
    "weight_decay = 0.01\n",
    "epochs = 25\n",
    "use_sgd = False\n",
    "\n",
    "model = Model().to(device)\n",
    "learn = Learner(\n",
    "    dls,\n",
    "    model,\n",
    "    metrics=accuracy,\n",
    "    opt_func=SGD if use_sgd else Adam,\n",
    "    loss_func=nn.CrossEntropyLoss(),\n",
    "    lr=learning_rate,\n",
    ")"
   ]
  },
  {
   "cell_type": "code",
   "execution_count": 24,
   "metadata": {
    "execution": {
     "iopub.execute_input": "2021-08-01T23:50:26.773028Z",
     "iopub.status.busy": "2021-08-01T23:50:26.772682Z",
     "iopub.status.idle": "2021-08-02T00:16:22.512264Z",
     "shell.execute_reply": "2021-08-02T00:16:22.511280Z",
     "shell.execute_reply.started": "2021-08-01T23:50:26.772988Z"
    }
   },
   "outputs": [
    {
     "data": {
      "text/html": [
       "<table border=\"1\" class=\"dataframe\">\n",
       "  <thead>\n",
       "    <tr style=\"text-align: left;\">\n",
       "      <th>epoch</th>\n",
       "      <th>train_loss</th>\n",
       "      <th>valid_loss</th>\n",
       "      <th>accuracy</th>\n",
       "      <th>time</th>\n",
       "    </tr>\n",
       "  </thead>\n",
       "  <tbody>\n",
       "    <tr>\n",
       "      <td>0</td>\n",
       "      <td>0.120831</td>\n",
       "      <td>0.135031</td>\n",
       "      <td>0.957619</td>\n",
       "      <td>01:02</td>\n",
       "    </tr>\n",
       "    <tr>\n",
       "      <td>1</td>\n",
       "      <td>0.110040</td>\n",
       "      <td>0.219034</td>\n",
       "      <td>0.936667</td>\n",
       "      <td>01:03</td>\n",
       "    </tr>\n",
       "    <tr>\n",
       "      <td>2</td>\n",
       "      <td>0.114844</td>\n",
       "      <td>0.256779</td>\n",
       "      <td>0.938333</td>\n",
       "      <td>01:03</td>\n",
       "    </tr>\n",
       "    <tr>\n",
       "      <td>3</td>\n",
       "      <td>0.107679</td>\n",
       "      <td>0.129471</td>\n",
       "      <td>0.957143</td>\n",
       "      <td>01:01</td>\n",
       "    </tr>\n",
       "    <tr>\n",
       "      <td>4</td>\n",
       "      <td>0.096106</td>\n",
       "      <td>0.084629</td>\n",
       "      <td>0.973333</td>\n",
       "      <td>01:01</td>\n",
       "    </tr>\n",
       "    <tr>\n",
       "      <td>5</td>\n",
       "      <td>0.103422</td>\n",
       "      <td>0.162904</td>\n",
       "      <td>0.957381</td>\n",
       "      <td>01:01</td>\n",
       "    </tr>\n",
       "    <tr>\n",
       "      <td>6</td>\n",
       "      <td>0.082157</td>\n",
       "      <td>0.108320</td>\n",
       "      <td>0.968571</td>\n",
       "      <td>01:01</td>\n",
       "    </tr>\n",
       "    <tr>\n",
       "      <td>7</td>\n",
       "      <td>0.088087</td>\n",
       "      <td>0.147839</td>\n",
       "      <td>0.959286</td>\n",
       "      <td>01:02</td>\n",
       "    </tr>\n",
       "    <tr>\n",
       "      <td>8</td>\n",
       "      <td>0.083596</td>\n",
       "      <td>0.165270</td>\n",
       "      <td>0.953333</td>\n",
       "      <td>01:01</td>\n",
       "    </tr>\n",
       "    <tr>\n",
       "      <td>9</td>\n",
       "      <td>0.082169</td>\n",
       "      <td>0.103634</td>\n",
       "      <td>0.970000</td>\n",
       "      <td>01:03</td>\n",
       "    </tr>\n",
       "    <tr>\n",
       "      <td>10</td>\n",
       "      <td>0.071245</td>\n",
       "      <td>0.052812</td>\n",
       "      <td>0.984048</td>\n",
       "      <td>01:02</td>\n",
       "    </tr>\n",
       "    <tr>\n",
       "      <td>11</td>\n",
       "      <td>0.072727</td>\n",
       "      <td>0.095136</td>\n",
       "      <td>0.971667</td>\n",
       "      <td>01:01</td>\n",
       "    </tr>\n",
       "    <tr>\n",
       "      <td>12</td>\n",
       "      <td>0.068067</td>\n",
       "      <td>0.070148</td>\n",
       "      <td>0.976667</td>\n",
       "      <td>01:01</td>\n",
       "    </tr>\n",
       "    <tr>\n",
       "      <td>13</td>\n",
       "      <td>0.054960</td>\n",
       "      <td>0.067515</td>\n",
       "      <td>0.980238</td>\n",
       "      <td>01:01</td>\n",
       "    </tr>\n",
       "    <tr>\n",
       "      <td>14</td>\n",
       "      <td>0.048299</td>\n",
       "      <td>0.046275</td>\n",
       "      <td>0.988333</td>\n",
       "      <td>01:02</td>\n",
       "    </tr>\n",
       "    <tr>\n",
       "      <td>15</td>\n",
       "      <td>0.042771</td>\n",
       "      <td>0.066753</td>\n",
       "      <td>0.981429</td>\n",
       "      <td>01:02</td>\n",
       "    </tr>\n",
       "    <tr>\n",
       "      <td>16</td>\n",
       "      <td>0.033553</td>\n",
       "      <td>0.046031</td>\n",
       "      <td>0.986667</td>\n",
       "      <td>01:02</td>\n",
       "    </tr>\n",
       "    <tr>\n",
       "      <td>17</td>\n",
       "      <td>0.029002</td>\n",
       "      <td>0.039085</td>\n",
       "      <td>0.988333</td>\n",
       "      <td>01:01</td>\n",
       "    </tr>\n",
       "    <tr>\n",
       "      <td>18</td>\n",
       "      <td>0.027198</td>\n",
       "      <td>0.031426</td>\n",
       "      <td>0.991190</td>\n",
       "      <td>01:02</td>\n",
       "    </tr>\n",
       "    <tr>\n",
       "      <td>19</td>\n",
       "      <td>0.016613</td>\n",
       "      <td>0.026988</td>\n",
       "      <td>0.990238</td>\n",
       "      <td>01:02</td>\n",
       "    </tr>\n",
       "    <tr>\n",
       "      <td>20</td>\n",
       "      <td>0.014555</td>\n",
       "      <td>0.020400</td>\n",
       "      <td>0.994524</td>\n",
       "      <td>01:02</td>\n",
       "    </tr>\n",
       "    <tr>\n",
       "      <td>21</td>\n",
       "      <td>0.010436</td>\n",
       "      <td>0.020022</td>\n",
       "      <td>0.995952</td>\n",
       "      <td>01:01</td>\n",
       "    </tr>\n",
       "    <tr>\n",
       "      <td>22</td>\n",
       "      <td>0.008041</td>\n",
       "      <td>0.021833</td>\n",
       "      <td>0.993333</td>\n",
       "      <td>01:01</td>\n",
       "    </tr>\n",
       "    <tr>\n",
       "      <td>23</td>\n",
       "      <td>0.006529</td>\n",
       "      <td>0.018693</td>\n",
       "      <td>0.994762</td>\n",
       "      <td>01:02</td>\n",
       "    </tr>\n",
       "    <tr>\n",
       "      <td>24</td>\n",
       "      <td>0.005959</td>\n",
       "      <td>0.016529</td>\n",
       "      <td>0.994286</td>\n",
       "      <td>01:02</td>\n",
       "    </tr>\n",
       "  </tbody>\n",
       "</table>"
      ],
      "text/plain": [
       "<IPython.core.display.HTML object>"
      ]
     },
     "metadata": {},
     "output_type": "display_data"
    }
   ],
   "source": [
    "learn.fit_one_cycle(n_epoch=epochs, lr_max=lr_max, wd=weight_decay)"
   ]
  },
  {
   "cell_type": "code",
   "execution_count": 25,
   "metadata": {
    "execution": {
     "iopub.execute_input": "2021-08-02T00:16:22.514329Z",
     "iopub.status.busy": "2021-08-02T00:16:22.513764Z",
     "iopub.status.idle": "2021-08-02T00:16:24.298212Z",
     "shell.execute_reply": "2021-08-02T00:16:24.297236Z",
     "shell.execute_reply.started": "2021-08-02T00:16:22.514284Z"
    }
   },
   "outputs": [],
   "source": [
    "predict_df = pd.read_csv(\"../input/digit-recognizer/test.csv\")\n",
    "\n",
    "predict_transform = transforms.Compose([])\n",
    "if ADD_TRANSFORMATIONS:\n",
    "    predict_transform = transforms.Compose([transforms.Resize(40)])\n",
    "\n",
    "predict_dataset = CustomTensorDataset(predict_df, predict_transform, validation_set=True)\n",
    "predict_loader = DataLoader(predict_dataset, batch_size=128)"
   ]
  },
  {
   "cell_type": "code",
   "execution_count": 26,
   "metadata": {
    "execution": {
     "iopub.execute_input": "2021-08-02T00:16:24.299961Z",
     "iopub.status.busy": "2021-08-02T00:16:24.299592Z",
     "iopub.status.idle": "2021-08-02T00:16:39.023488Z",
     "shell.execute_reply": "2021-08-02T00:16:39.022264Z",
     "shell.execute_reply.started": "2021-08-02T00:16:24.299926Z"
    }
   },
   "outputs": [
    {
     "data": {
      "text/html": [],
      "text/plain": [
       "<IPython.core.display.HTML object>"
      ]
     },
     "metadata": {},
     "output_type": "display_data"
    },
    {
     "name": "stdout",
     "output_type": "stream",
     "text": [
      "       ImageId  Label\n",
      "0            1      2\n",
      "1            2      0\n",
      "2            3      9\n",
      "3            4      0\n",
      "4            5      3\n",
      "...        ...    ...\n",
      "27995    27996      9\n",
      "27996    27997      7\n",
      "27997    27998      3\n",
      "27998    27999      9\n",
      "27999    28000      2\n",
      "\n",
      "[28000 rows x 2 columns]\n"
     ]
    }
   ],
   "source": [
    "predictions, _ = learn.get_preds(dl=predict_loader)\n",
    "sub = pd.read_csv(\"../input/digit-recognizer/sample_submission.csv\")\n",
    "sub[\"Label\"] = np.argmax(predictions, axis=1)\n",
    "sub.to_csv(\"submission.csv\", index=False)\n",
    "print(sub)"
   ]
  }
 ],
 "metadata": {
  "kernelspec": {
   "display_name": "Python 3 (ipykernel)",
   "language": "python",
   "name": "python3"
  },
  "language_info": {
   "codemirror_mode": {
    "name": "ipython",
    "version": 3
   },
   "file_extension": ".py",
   "mimetype": "text/x-python",
   "name": "python",
   "nbconvert_exporter": "python",
   "pygments_lexer": "ipython3",
   "version": "3.8.10"
  }
 },
 "nbformat": 4,
 "nbformat_minor": 4
}
